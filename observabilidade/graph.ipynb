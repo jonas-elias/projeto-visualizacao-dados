{
 "cells": [
  {
   "cell_type": "code",
   "execution_count": 3,
   "metadata": {},
   "outputs": [],
   "source": [
    "import psycopg2\n",
    "import pandas as pd\n",
    "import time\n",
    "from datetime import datetime\n",
    "import plotly.graph_objects as pl\n",
    "from IPython.display import clear_output"
   ]
  },
  {
   "cell_type": "code",
   "execution_count": 2,
   "metadata": {},
   "outputs": [],
   "source": [
    "conn = psycopg2.connect(\n",
    "    host='localhost',\n",
    "    database='postgres',\n",
    "    user='user',\n",
    "    password='password',\n",
    "    options=\"-c search_path=observabilidade\"\n",
    ")"
   ]
  },
  {
   "cell_type": "code",
   "execution_count": null,
   "metadata": {},
   "outputs": [],
   "source": [
    "cursor = conn.cursor()\n",
    "while True:\n",
    "    cursor.execute(\"select uso_cpu, data from cpu_usage cu order by ID desc limit 20\")\n",
    "    dados = cursor.fetchall()\n",
    "    dados = pd.DataFrame(dados)\n",
    "    y = dados[0]\n",
    "    x = dados[1]\n",
    "    fig = pl.Figure()\n",
    "    fig.add_traces(pl.Scatter(mode='lines', name='Observer', x=x, y=y))\n",
    "    fig.update_layout(title='Estatísticas do uso da CPU', xaxis_title='Data', yaxis_title='Uso da CPU')\n",
    "    clear_output()\n",
    "    fig.show()\n",
    "    time.sleep(1)"
   ]
  }
 ],
 "metadata": {
  "kernelspec": {
   "display_name": "Python 3",
   "language": "python",
   "name": "python3"
  },
  "language_info": {
   "codemirror_mode": {
    "name": "ipython",
    "version": 3
   },
   "file_extension": ".py",
   "mimetype": "text/x-python",
   "name": "python",
   "nbconvert_exporter": "python",
   "pygments_lexer": "ipython3",
   "version": "3.10.11"
  },
  "orig_nbformat": 4
 },
 "nbformat": 4,
 "nbformat_minor": 2
}
