{
 "cells": [
  {
   "cell_type": "code",
   "execution_count": null,
   "metadata": {},
   "outputs": [],
   "source": [
    "import pandas as pd\n",
    "import numpy as np\n",
    "import plotly.graph_objects as go\n",
    "import plotly.express as px"
   ]
  },
  {
   "cell_type": "code",
   "execution_count": null,
   "metadata": {},
   "outputs": [],
   "source": [
    "dataSet = pd.read_csv('./dataset.csv', delimiter=';', thousands='.', decimal=',')\n",
    "dataSet = dataSet[:-1]"
   ]
  },
  {
   "cell_type": "code",
   "execution_count": null,
   "metadata": {},
   "outputs": [],
   "source": [
    "fig = go.Figure()\n",
    "\n",
    "fig.add_trace(go.Scatter(x=dataSet['Ano atendimento'], y=dataSet['Internacoes'], name='Internações'))\n",
    "# fig.add_trace(go.Scatter(x=dataSet['Ano atendimento'], y=dataSet['Valor_total'], name='Valor Total'))\n",
    "# fig.add_trace(go.Scatter(x=dataSet['Ano atendimento'], y=dataSet['Obitos'], name='Óbitos'))\n",
    "\n",
    "fig.update_layout(title='Estatísticas de Internações', xaxis_title='Ano', yaxis_title='Valores')\n",
    "\n",
    "fig.show()"
   ]
  },
  {
   "cell_type": "code",
   "execution_count": null,
   "metadata": {},
   "outputs": [],
   "source": [
    "anos = dataSet['Ano atendimento']\n",
    "internacoes = dataSet['Internacoes']\n",
    "valor_total = dataSet['Valor_total']\n",
    "obitos = dataSet['Obitos']\n",
    "\n",
    "fig = go.Figure(data=[go.Mesh3d(x=anos,\n",
    "                                y=obitos,\n",
    "                                z=internacoes,\n",
    "                                color='pink', opacity=1\n",
    "                                )])\n",
    "\n",
    "fig.update_layout(\n",
    "    title='Gráfico 3D',\n",
    "    scene=dict(\n",
    "        xaxis_title='Ano',\n",
    "        yaxis_title='Óbitos',\n",
    "        zaxis_title='Internações'\n",
    "    )\n",
    ")\n",
    "\n",
    "fig.show()"
   ]
  }
 ],
 "metadata": {
  "kernelspec": {
   "display_name": "Python 3",
   "language": "python",
   "name": "python3"
  },
  "language_info": {
   "codemirror_mode": {
    "name": "ipython",
    "version": 3
   },
   "file_extension": ".py",
   "mimetype": "text/x-python",
   "name": "python",
   "nbconvert_exporter": "python",
   "pygments_lexer": "ipython3",
   "version": "3.10.11"
  },
  "orig_nbformat": 4
 },
 "nbformat": 4,
 "nbformat_minor": 2
}
